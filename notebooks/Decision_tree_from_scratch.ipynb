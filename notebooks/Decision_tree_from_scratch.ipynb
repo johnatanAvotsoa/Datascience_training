{
 "cells": [
  {
   "cell_type": "code",
   "execution_count": null,
   "id": "d34b13ad-7c39-49b0-ac78-ca3b7b75ec1e",
   "metadata": {},
   "outputs": [],
   "source": [
    "data = [\n",
    "    [\"Green\",3,\"mango\"] ,\n",
    "    [\"Yellow\",3,\"mango\"] ,\n",
    "    [\"Red\",1,\"grape\"] ,\n",
    "    [\"Red\",1,\"grape\"]\n",
    "    [\"Yellow\",3,\"lemon\"]\n",
    "]"
   ]
  },
  {
   "cell_type": "code",
   "execution_count": null,
   "id": "5404c434-6771-4653-95bf-92932a60276f",
   "metadata": {},
   "outputs": [],
   "source": [
    "header = [\"color\", \"diameter\" , \"label\"] "
   ]
  }
 ],
 "metadata": {
  "kernelspec": {
   "display_name": "Python 3 (ipykernel)",
   "language": "python",
   "name": "python3"
  },
  "language_info": {
   "codemirror_mode": {
    "name": "ipython",
    "version": 3
   },
   "file_extension": ".py",
   "mimetype": "text/x-python",
   "name": "python",
   "nbconvert_exporter": "python",
   "pygments_lexer": "ipython3",
   "version": "3.11.7"
  }
 },
 "nbformat": 4,
 "nbformat_minor": 5
}
