{
 "cells": [
  {
   "cell_type": "code",
   "execution_count": 28,
   "id": "f86daa29-1bb4-4854-96c4-320eb75d8140",
   "metadata": {},
   "outputs": [],
   "source": [
    "import pandas as pd\n",
    "import numpy as np \n",
    "import matplotlib.pyplot as plt \n",
    "import seaborn as sns\n",
    "%matplotlib inline"
   ]
  },
  {
   "cell_type": "code",
   "execution_count": 29,
   "id": "1b07ef77-cc1d-4e7d-aff3-9bae6dd2d0ad",
   "metadata": {
    "scrolled": true
   },
   "outputs": [],
   "source": [
    "data = pd.read_excel('../dataset/Titanic_dataset.xlsx')\n",
    "#print(f\"data total records = {str(data.index)}\")"
   ]
  },
  {
   "cell_type": "markdown",
   "id": "3d881d06-757d-4a83-924a-b581ef34230f",
   "metadata": {},
   "source": [
    "## Data analysis"
   ]
  },
  {
   "cell_type": "code",
   "execution_count": null,
   "id": "da9fa133-6aca-4369-a80e-cff46d6fb185",
   "metadata": {},
   "outputs": [],
   "source": [
    "data.head()"
   ]
  },
  {
   "cell_type": "code",
   "execution_count": null,
   "id": "35c91697-eb90-4626-8445-8e4e8a5a5cb4",
   "metadata": {},
   "outputs": [],
   "source": [
    "data.describe()"
   ]
  },
  {
   "cell_type": "code",
   "execution_count": null,
   "id": "e9485529-f374-484d-8688-2cdaa7c80e1c",
   "metadata": {},
   "outputs": [],
   "source": [
    "sns.countplot(x=\"survived\",data = data)"
   ]
  },
  {
   "cell_type": "code",
   "execution_count": null,
   "id": "e66b851e-dd16-4d34-8258-c7293c5762ee",
   "metadata": {},
   "outputs": [],
   "source": [
    "sns.countplot(x='survived',hue='sex',data=data)"
   ]
  },
  {
   "cell_type": "code",
   "execution_count": null,
   "id": "8ce628ac-a945-45fd-b8a1-3b66cc0b515f",
   "metadata": {},
   "outputs": [],
   "source": [
    "data['pclass'] = data['pclass'].astype(str)\n",
    "sns.countplot(x='survived',hue='pclass',data=data)"
   ]
  },
  {
   "cell_type": "code",
   "execution_count": null,
   "id": "81e7f5ab-6698-46ff-af10-9694ad91adb4",
   "metadata": {},
   "outputs": [],
   "source": [
    "data['age'].plot.hist()"
   ]
  },
  {
   "cell_type": "code",
   "execution_count": null,
   "id": "b949ddc3-440a-457b-ac8e-2c161cd1fe9a",
   "metadata": {},
   "outputs": [],
   "source": [
    "data['sibsp'].plot.hist()"
   ]
  },
  {
   "cell_type": "markdown",
   "id": "7b9e51b1-4d47-413b-a071-82e4b3a87e5a",
   "metadata": {},
   "source": [
    "## Data cleaning"
   ]
  },
  {
   "cell_type": "code",
   "execution_count": null,
   "id": "f78da574-04fe-44b4-9935-5d5239b7c8b1",
   "metadata": {},
   "outputs": [],
   "source": [
    "data.info()"
   ]
  },
  {
   "cell_type": "code",
   "execution_count": null,
   "id": "51068bf2-a344-42c2-bb77-3af7d77987d6",
   "metadata": {},
   "outputs": [],
   "source": [
    "data.isnull().sum()"
   ]
  },
  {
   "cell_type": "code",
   "execution_count": null,
   "id": "eaade93d-d2ad-4c01-be80-2add9bd5be5f",
   "metadata": {},
   "outputs": [],
   "source": [
    "sns.heatmap(data.isnull())"
   ]
  },
  {
   "cell_type": "code",
   "execution_count": null,
   "id": "e55f8e10-ef93-4024-8f3c-6945d4bd492a",
   "metadata": {},
   "outputs": [],
   "source": [
    "print(data.columns)"
   ]
  },
  {
   "cell_type": "code",
   "execution_count": null,
   "id": "fe8e5162-e12e-42dc-a421-8fd2d5494a05",
   "metadata": {},
   "outputs": [],
   "source": [
    "#dropping  irrelevant columns\n",
    "data.drop(['cabin','boat','body','home.dest'],axis=1,inplace=True,errors='ignore')\n",
    "print(data.columns)"
   ]
  },
  {
   "cell_type": "code",
   "execution_count": null,
   "id": "223ff69e-55a3-40f8-a905-3822102cc5c3",
   "metadata": {},
   "outputs": [],
   "source": [
    "data.isnull().sum()"
   ]
  },
  {
   "cell_type": "code",
   "execution_count": 55,
   "id": "a193089d-93c0-40fb-9bec-4a380cec41a3",
   "metadata": {},
   "outputs": [],
   "source": [
    "data['age'].fillna(data['age'].mean() , inplace=True)\n",
    "data['fare'].fillna(data['fare'].mean() , inplace=True)\n",
    "data['embarked'].fillna(data['embarked'].mode()[0], inplace=True)"
   ]
  },
  {
   "cell_type": "code",
   "execution_count": null,
   "id": "c3f14dab-5ae9-4f8e-813a-4d781e7afa23",
   "metadata": {},
   "outputs": [],
   "source": [
    "data.isnull().sum()\n",
    "#dataset is now clean :) "
   ]
  }
 ],
 "metadata": {
  "kernelspec": {
   "display_name": "Python 3 (ipykernel)",
   "language": "python",
   "name": "python3"
  },
  "language_info": {
   "codemirror_mode": {
    "name": "ipython",
    "version": 3
   },
   "file_extension": ".py",
   "mimetype": "text/x-python",
   "name": "python",
   "nbconvert_exporter": "python",
   "pygments_lexer": "ipython3",
   "version": "3.11.7"
  }
 },
 "nbformat": 4,
 "nbformat_minor": 5
}
