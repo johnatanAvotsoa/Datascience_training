{
 "cells": [
  {
   "cell_type": "code",
   "execution_count": 17,
   "id": "062f995c-c313-4dfd-844e-55914e378dcc",
   "metadata": {},
   "outputs": [],
   "source": [
    "import pandas as pd \n",
    "import numpy  as np\n",
    "import matplotlib.pyplot as plt "
   ]
  },
  {
   "cell_type": "code",
   "execution_count": 18,
   "id": "6ffbbc5d-9b50-4962-8c9b-b33e2491e237",
   "metadata": {},
   "outputs": [],
   "source": [
    "data = pd.read_csv('../dataset/headbrain.csv')"
   ]
  },
  {
   "cell_type": "code",
   "execution_count": 19,
   "id": "34adc3df-db5d-4e68-9b55-be927a97aee9",
   "metadata": {},
   "outputs": [
    {
     "data": {
      "text/html": [
       "<div>\n",
       "<style scoped>\n",
       "    .dataframe tbody tr th:only-of-type {\n",
       "        vertical-align: middle;\n",
       "    }\n",
       "\n",
       "    .dataframe tbody tr th {\n",
       "        vertical-align: top;\n",
       "    }\n",
       "\n",
       "    .dataframe thead th {\n",
       "        text-align: right;\n",
       "    }\n",
       "</style>\n",
       "<table border=\"1\" class=\"dataframe\">\n",
       "  <thead>\n",
       "    <tr style=\"text-align: right;\">\n",
       "      <th></th>\n",
       "      <th>Gender</th>\n",
       "      <th>Age Range</th>\n",
       "      <th>Head Size(cm^3)</th>\n",
       "      <th>Brain Weight(grams)</th>\n",
       "    </tr>\n",
       "  </thead>\n",
       "  <tbody>\n",
       "    <tr>\n",
       "      <th>232</th>\n",
       "      <td>2</td>\n",
       "      <td>2</td>\n",
       "      <td>3214</td>\n",
       "      <td>1110</td>\n",
       "    </tr>\n",
       "    <tr>\n",
       "      <th>233</th>\n",
       "      <td>2</td>\n",
       "      <td>2</td>\n",
       "      <td>3394</td>\n",
       "      <td>1215</td>\n",
       "    </tr>\n",
       "    <tr>\n",
       "      <th>234</th>\n",
       "      <td>2</td>\n",
       "      <td>2</td>\n",
       "      <td>3233</td>\n",
       "      <td>1104</td>\n",
       "    </tr>\n",
       "    <tr>\n",
       "      <th>235</th>\n",
       "      <td>2</td>\n",
       "      <td>2</td>\n",
       "      <td>3352</td>\n",
       "      <td>1170</td>\n",
       "    </tr>\n",
       "    <tr>\n",
       "      <th>236</th>\n",
       "      <td>2</td>\n",
       "      <td>2</td>\n",
       "      <td>3391</td>\n",
       "      <td>1120</td>\n",
       "    </tr>\n",
       "  </tbody>\n",
       "</table>\n",
       "</div>"
      ],
      "text/plain": [
       "     Gender  Age Range  Head Size(cm^3)  Brain Weight(grams)\n",
       "232       2          2             3214                 1110\n",
       "233       2          2             3394                 1215\n",
       "234       2          2             3233                 1104\n",
       "235       2          2             3352                 1170\n",
       "236       2          2             3391                 1120"
      ]
     },
     "execution_count": 19,
     "metadata": {},
     "output_type": "execute_result"
    }
   ],
   "source": [
    "data.tail(5)"
   ]
  },
  {
   "cell_type": "code",
   "execution_count": 20,
   "id": "e23fd678-1683-4c21-9778-0b0472a1c179",
   "metadata": {},
   "outputs": [
    {
     "data": {
      "text/plain": [
       "237"
      ]
     },
     "execution_count": 20,
     "metadata": {},
     "output_type": "execute_result"
    }
   ],
   "source": [
    "x = data[[\"Gender\",\"Head Size(cm^3)\"]].values\n",
    "\n",
    "Y = data[\"Brain Weight(grams)\"].values.reshape(-1,1)\n",
    "X = np.hstack((np.ones((x.shape[0],1)),x))\n",
    "\n",
    "theta = np.random.randn(2,1)\n",
    "m = X.shape[0]\n",
    "m"
   ]
  },
  {
   "cell_type": "code",
   "execution_count": 21,
   "id": "150fda9d-b72b-4619-87bd-8ebb7d8a0318",
   "metadata": {
    "scrolled": true
   },
   "outputs": [],
   "source": [
    "def model(X,theta) : \n",
    "    return X @ theta"
   ]
  },
  {
   "cell_type": "code",
   "execution_count": 22,
   "id": "c9e2779a-b5ec-42dd-927f-19090a921fbd",
   "metadata": {},
   "outputs": [],
   "source": [
    "def cost_function(X,Y,theta) :\n",
    "    error = model(X,theta) - Y\n",
    "    return (1/(2*m)) * np.sum(error**2) \n",
    "#cost_function(X,Y,theta)"
   ]
  },
  {
   "cell_type": "code",
   "execution_count": 23,
   "id": "f1eca651-1132-433a-b4b1-21d2f91407a0",
   "metadata": {},
   "outputs": [
    {
     "ename": "ValueError",
     "evalue": "matmul: Input operand 1 has a mismatch in its core dimension 0, with gufunc signature (n?,k),(k,m?)->(n?,m?) (size 2 is different from 3)",
     "output_type": "error",
     "traceback": [
      "\u001b[0;31m---------------------------------------------------------------------------\u001b[0m",
      "\u001b[0;31mValueError\u001b[0m                                Traceback (most recent call last)",
      "Cell \u001b[0;32mIn[23], line 4\u001b[0m\n\u001b[1;32m      2\u001b[0m     error \u001b[38;5;241m=\u001b[39m model(X,theta) \u001b[38;5;241m-\u001b[39m Y\n\u001b[1;32m      3\u001b[0m     \u001b[38;5;28;01mreturn\u001b[39;00m \u001b[38;5;241m1\u001b[39m\u001b[38;5;241m/\u001b[39mm \u001b[38;5;241m*\u001b[39m X\u001b[38;5;241m.\u001b[39mT \u001b[38;5;241m@\u001b[39m error\n\u001b[0;32m----> 4\u001b[0m gradient(X,Y,theta)\n",
      "Cell \u001b[0;32mIn[23], line 2\u001b[0m, in \u001b[0;36mgradient\u001b[0;34m(X, Y, theta)\u001b[0m\n\u001b[1;32m      1\u001b[0m \u001b[38;5;28;01mdef\u001b[39;00m \u001b[38;5;21mgradient\u001b[39m(X,Y,theta):\n\u001b[0;32m----> 2\u001b[0m     error \u001b[38;5;241m=\u001b[39m model(X,theta) \u001b[38;5;241m-\u001b[39m Y\n\u001b[1;32m      3\u001b[0m     \u001b[38;5;28;01mreturn\u001b[39;00m \u001b[38;5;241m1\u001b[39m\u001b[38;5;241m/\u001b[39mm \u001b[38;5;241m*\u001b[39m X\u001b[38;5;241m.\u001b[39mT \u001b[38;5;241m@\u001b[39m error\n",
      "Cell \u001b[0;32mIn[21], line 2\u001b[0m, in \u001b[0;36mmodel\u001b[0;34m(X, theta)\u001b[0m\n\u001b[1;32m      1\u001b[0m \u001b[38;5;28;01mdef\u001b[39;00m \u001b[38;5;21mmodel\u001b[39m(X,theta) : \n\u001b[0;32m----> 2\u001b[0m     \u001b[38;5;28;01mreturn\u001b[39;00m X \u001b[38;5;241m@\u001b[39m theta\n",
      "\u001b[0;31mValueError\u001b[0m: matmul: Input operand 1 has a mismatch in its core dimension 0, with gufunc signature (n?,k),(k,m?)->(n?,m?) (size 2 is different from 3)"
     ]
    }
   ],
   "source": [
    "def gradient(X,Y,theta):\n",
    "    error = model(X,theta) - Y\n",
    "    return 1/m * X.T @ error\n",
    "gradient(X,Y,theta)"
   ]
  },
  {
   "cell_type": "code",
   "execution_count": null,
   "id": "4f00e1f5-eb44-4bd8-95b8-0ffafe914e35",
   "metadata": {},
   "outputs": [],
   "source": [
    "def gradient_descent(X,Y,theta, learning_rate = 1e-7 , iteration=10000) :\n",
    "    cost_history = [] \n",
    "    for i in range(iteration) :\n",
    "        theta -= learning_rate * gradient(X,Y,theta)\n",
    "        cost_history.append(cost_function(X,Y,theta))\n",
    "    return theta,cost_history"
   ]
  },
  {
   "cell_type": "code",
   "execution_count": null,
   "id": "3bba1afc-3b85-4369-a754-44e133e3f7f2",
   "metadata": {},
   "outputs": [],
   "source": [
    "theta_min , cost_history = gradient_descent(X,Y,theta,1e-7,10)\n",
    "y_predicted = model(X,theta_min)"
   ]
  },
  {
   "cell_type": "code",
   "execution_count": null,
   "id": "56ae2baa-897c-4641-863a-91664389fbc2",
   "metadata": {},
   "outputs": [],
   "source": [
    "x = data[\"Head Size(cm^3)\"].values.reshape(-1,1) \n",
    "plt.scatter(x,Y,label='data')\n",
    "plt.plot(x,y_predicted,c='r',label='prediction')\n",
    "plt.xlabel(\"Taille de la tête\")\n",
    "plt.ylabel(\"Taille du cerveau\")\n",
    "plt.title(\"Gradient descent \")\n",
    "plt.grid(True)\n",
    "plt.legend()"
   ]
  },
  {
   "cell_type": "code",
   "execution_count": null,
   "id": "8965c4a7-8f51-4386-a250-34ee423354e4",
   "metadata": {},
   "outputs": [],
   "source": [
    "plt.plot(cost_history)\n",
    "plt.grid(True) \n",
    "plt.title(\"Evolution of cost function minimization\")\n",
    "plt.xlabel(\"iteration\")\n",
    "plt.ylabel(\"dicrease\")"
   ]
  },
  {
   "cell_type": "code",
   "execution_count": null,
   "id": "6a8bfb8d-fcff-42f0-8b37-13b63be0c706",
   "metadata": {},
   "outputs": [],
   "source": []
  }
 ],
 "metadata": {
  "kernelspec": {
   "display_name": "Python 3 (ipykernel)",
   "language": "python",
   "name": "python3"
  },
  "language_info": {
   "codemirror_mode": {
    "name": "ipython",
    "version": 3
   },
   "file_extension": ".py",
   "mimetype": "text/x-python",
   "name": "python",
   "nbconvert_exporter": "python",
   "pygments_lexer": "ipython3",
   "version": "3.11.7"
  }
 },
 "nbformat": 4,
 "nbformat_minor": 5
}
